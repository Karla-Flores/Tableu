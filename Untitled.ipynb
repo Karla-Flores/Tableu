{
 "cells": [
  {
   "cell_type": "code",
   "execution_count": null,
   "metadata": {},
   "outputs": [],
   "source": [
    "# Dependencies & set up\n",
    "import pandas as pd"
   ]
  },
  {
   "cell_type": "code",
   "execution_count": 2,
   "metadata": {},
   "outputs": [],
   "source": [
    "# Getting fata from csv files\n",
    "bdata_202007 = \"data/JC-202007-citibike-tripdata.csv\"\n",
    "bdata_202008 = \"data/JC-202008-citibike-tripdata.csv\"\n",
    "bdata_202009 = \"data/JC-202009-citibike-tripdata.csv\"\n",
    "bdata_202010 = \"data/JC-202010-citibike-tripdata.csv\"\n",
    "bdata_202011 = \"data/JC-202011-citibike-tripdata.csv\"\n",
    "bdata_202012 = \"data/JC-202012-citibike-tripdata.csv\"\n",
    "bdata_202101 = \"data/JC-202101-citibike-tripdata.csv\"\n",
    "bdata_202102 = \"data/JC-202102-citibike-tripdata.csv\"\n",
    "bdata_202103 = \"data/JC-202103-citibike-tripdata.csv\"\n",
    "bdata_202104 = \"data/JC-202104-citibike-tripdata.csv\"\n",
    "bdata_202105 = \"data/JC-202105-citibike-tripdata.csv\"\n",
    "bdata_202106 = \"data/JC-202106-citibike-tripdata.csv\"\n",
    "bdata_202107 = \"data/JC-202107-citibike-tripdata.csv\""
   ]
  },
  {
   "cell_type": "code",
   "execution_count": 3,
   "metadata": {},
   "outputs": [
    {
     "data": {
      "text/plain": [
       "['data/JC-202007-citibike-tripdata.csv',\n",
       " 'data/JC-202008-citibike-tripdata.csv',\n",
       " 'data/JC-202009-citibike-tripdata.csv',\n",
       " 'data/JC-202010-citibike-tripdata.csv',\n",
       " 'data/JC-202011-citibike-tripdata.csv',\n",
       " 'data/JC-202012-citibike-tripdata.csv',\n",
       " 'data/JC-202101-citibike-tripdata.csv',\n",
       " 'data/JC-202102-citibike-tripdata.csv',\n",
       " 'data/JC-202103-citibike-tripdata.csv',\n",
       " 'data/JC-202104-citibike-tripdata.csv',\n",
       " 'data/JC-202105-citibike-tripdata.csv',\n",
       " 'data/JC-202106-citibike-tripdata.csv',\n",
       " 'data/JC-202107-citibike-tripdata.csv']"
      ]
     },
     "execution_count": 3,
     "metadata": {},
     "output_type": "execute_result"
    }
   ],
   "source": [
    "# Creating a list\n",
    "bdata = [bdata_202007 ,bdata_202008 ,bdata_202009 ,bdata_202010 ,bdata_202011 ,bdata_202012 ,bdata_202101 ,bdata_202102 ,bdata_202103 ,bdata_202104 ,bdata_202105 ,bdata_202106 ,bdata_202107]"
   ]
  },
  {
   "cell_type": "code",
   "execution_count": null,
   "metadata": {},
   "outputs": [],
   "source": []
  }
 ],
 "metadata": {
  "kernelspec": {
   "display_name": "Python [conda env:root] *",
   "language": "python",
   "name": "conda-root-py"
  },
  "language_info": {
   "codemirror_mode": {
    "name": "ipython",
    "version": 3
   },
   "file_extension": ".py",
   "mimetype": "text/x-python",
   "name": "python",
   "nbconvert_exporter": "python",
   "pygments_lexer": "ipython3",
   "version": "3.8.5"
  }
 },
 "nbformat": 4,
 "nbformat_minor": 4
}
